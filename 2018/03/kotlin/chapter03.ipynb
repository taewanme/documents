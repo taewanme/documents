{
 "cells": [
  {
   "cell_type": "markdown",
   "metadata": {},
   "source": [
    "# 코틀린과 객체지향 프로그래밍"
   ]
  },
  {
   "cell_type": "markdown",
   "metadata": {},
   "source": [
    "- Kotlin\n",
    "  - 고차함수와 람다식을 지원하는 객체지향 프로그래밍\n",
    "  - Functioal Language + OOP"
   ]
  },
  {
   "cell_type": "markdown",
   "metadata": {},
   "source": [
    "- OOP 3요소\n",
    "  - 은닉: Encapsulation\n",
    "  - 상속: Inheritance\n",
    "  - 다형성: Polymorphism"
   ]
  },
  {
   "cell_type": "markdown",
   "metadata": {},
   "source": [
    "## 클래스"
   ]
  },
  {
   "cell_type": "markdown",
   "metadata": {},
   "source": [
    "- Kotlin은 하나의 파일에 여러 클래스를 정의할 수 있음\n",
    "- 접근 지정자: 기본 설정==> public\n",
    "- 클래스 구성\n",
    "  - 중첩 클래스\n",
    "  - 필드\n",
    "  - 프로퍼티\n",
    "  - 메서드"
   ]
  },
  {
   "cell_type": "code",
   "execution_count": 1,
   "metadata": {},
   "outputs": [],
   "source": [
    "class Deposit{}"
   ]
  },
  {
   "cell_type": "code",
   "execution_count": 2,
   "metadata": {},
   "outputs": [],
   "source": [
    "var deposit = Deposit()"
   ]
  },
  {
   "cell_type": "code",
   "execution_count": 3,
   "metadata": {},
   "outputs": [
    {
     "data": {
      "text/plain": [
       "Line_1$Deposit@6a4b4d5"
      ]
     },
     "execution_count": 3,
     "metadata": {},
     "output_type": "execute_result"
    }
   ],
   "source": [
    "deposit"
   ]
  },
  {
   "cell_type": "markdown",
   "metadata": {},
   "source": [
    "- 생성자: constructor 키워드 사용\n",
    "  - 생성자의 매개변수에 접근 지정자, 애너테이션을 사용하지 않으면 지정하지 않아도됨"
   ]
  },
  {
   "cell_type": "code",
   "execution_count": 4,
   "metadata": {},
   "outputs": [],
   "source": [
    "class Person constructor(val firstName:String, val lastName:String, val age:Int?){}"
   ]
  },
  {
   "cell_type": "code",
   "execution_count": 5,
   "metadata": {},
   "outputs": [],
   "source": [
    "//constructor 키워드 생략\n",
    "class Person2 (val firstName:String, val lastName:String, val age:Int?){}"
   ]
  },
  {
   "cell_type": "markdown",
   "metadata": {},
   "source": [
    "```java\n",
    "public persion2{\n",
    "    public String firstName\n",
    "    public String lastName\n",
    "    public int age\n",
    "    \n",
    "    public persion2(firstName:String, val lastName:String, val age:Int){\n",
    "        this.firstName = firstname\n",
    "        //생략\n",
    "    }\n",
    "    \n",
    "}\n",
    "```"
   ]
  },
  {
   "cell_type": "code",
   "execution_count": 6,
   "metadata": {},
   "outputs": [],
   "source": [
    "val person1 = Person(\"Taewan\",\"Kim\", 45)\n",
    "val person2 = Person2(\"Sunny\", \"Yim\", null)"
   ]
  },
  {
   "cell_type": "code",
   "execution_count": 7,
   "metadata": {},
   "outputs": [
    {
     "data": {
      "text/plain": [
       "Taewan, Kim is 45 years old"
      ]
     },
     "execution_count": 7,
     "metadata": {},
     "output_type": "execute_result"
    }
   ],
   "source": [
    "\"${person1.firstName}, ${person1.lastName} is ${person1.age} years old\""
   ]
  },
  {
   "cell_type": "code",
   "execution_count": 8,
   "metadata": {},
   "outputs": [
    {
     "data": {
      "text/plain": [
       "Sunny, Yim is null years old"
      ]
     },
     "execution_count": 8,
     "metadata": {},
     "output_type": "execute_result"
    }
   ],
   "source": [
    "//? 안먹음...\n",
    "\"${person2.firstName}, ${person2.lastName} is ${person2.age.toString()?:\"?\"} years old\""
   ]
  },
  {
   "cell_type": "markdown",
   "metadata": {},
   "source": [
    "- Person 클래스 업그레이드\n",
    "  - requre 함수\n",
    "  - init block"
   ]
  },
  {
   "cell_type": "markdown",
   "metadata": {},
   "source": [
    "- 주 생성자에 로직을 추가하고 싶을 경우\n",
    "  - init 블록 사용\n",
    "  - init {....}"
   ]
  },
  {
   "cell_type": "code",
   "execution_count": 9,
   "metadata": {},
   "outputs": [],
   "source": [
    "//주 생성자를 위한 검증 로직 추가\n",
    "//3번째 매개변수는 null이 가능\n",
    "class Person(val firstName:String, val lastName:String, val age:Int?){\n",
    "    init{\n",
    "        require(firstName.trim().length>0){\"Invalid firstName argument.\"}\n",
    "        require(lastName.trim().length>0){\"Invalid lastName argument.\"}\n",
    "        if(age != null){\n",
    "            require(age>=0&&age<150){\"Invalid age argument.\"}\n",
    "        }\n",
    "    }\n",
    "}"
   ]
  },
  {
   "cell_type": "code",
   "execution_count": 10,
   "metadata": {},
   "outputs": [
    {
     "name": "stderr",
     "output_type": "stream",
     "text": [
      "java.lang.IllegalArgumentException: Invalid age argument.\n",
      "\tat Line_9$Person.<init>(Line_9.kts:8)\n"
     ]
    }
   ],
   "source": [
    "val person3 = Person(\"Taewan\",\"Kim\", 160)"
   ]
  },
  {
   "cell_type": "markdown",
   "metadata": {},
   "source": [
    "### 생성자 추가"
   ]
  },
  {
   "cell_type": "markdown",
   "metadata": {},
   "source": [
    "- constructor을 중복 정의 하는 방법"
   ]
  },
  {
   "cell_type": "code",
   "execution_count": 11,
   "metadata": {},
   "outputs": [],
   "source": [
    "class Person (val firstName:String, val lastName:String, val age:Int?){\n",
    "    //constructor 키워드 사용: this 키워드로 생성자 호출\n",
    "    constructor(firstName:String, lastName:String):this(firstName, lastName, null)\n",
    "    \n",
    "    init{\n",
    "        require(firstName.trim().length>0){\"Invalid firstName argument.\"}\n",
    "        require(lastName.trim().length>0){\"Invalid lastName argument.\"}\n",
    "        if(age != null){\n",
    "            require(age>=0&&age<150){\"Invalid age argument.\"}\n",
    "        }\n",
    "    }\n",
    "}"
   ]
  },
  {
   "cell_type": "code",
   "execution_count": 12,
   "metadata": {},
   "outputs": [],
   "source": [
    "val person4 = Person(\"Taewan\", \"Kim\")"
   ]
  },
  {
   "cell_type": "code",
   "execution_count": 13,
   "metadata": {},
   "outputs": [
    {
     "data": {
      "text/plain": [
       "Taewan"
      ]
     },
     "execution_count": 13,
     "metadata": {},
     "output_type": "execute_result"
    }
   ],
   "source": [
    "person4.firstName"
   ]
  },
  {
   "cell_type": "code",
   "execution_count": 14,
   "metadata": {},
   "outputs": [
    {
     "data": {
      "text/plain": [
       "Kim"
      ]
     },
     "execution_count": 14,
     "metadata": {},
     "output_type": "execute_result"
    }
   ],
   "source": [
    "person4.lastName"
   ]
  },
  {
   "cell_type": "code",
   "execution_count": 15,
   "metadata": {},
   "outputs": [
    {
     "data": {
      "text/plain": [
       "null"
      ]
     },
     "execution_count": 15,
     "metadata": {},
     "output_type": "execute_result"
    }
   ],
   "source": [
    "person4.age"
   ]
  },
  {
   "cell_type": "code",
   "execution_count": 16,
   "metadata": {},
   "outputs": [
    {
     "name": "stderr",
     "output_type": "stream",
     "text": [
      "java.lang.IllegalAccessError: tried to access field Line_11_gen_2$Person.age from class Line_16_gen_2\n"
     ]
    }
   ],
   "source": [
    "//설정은 불가함 (val)\n",
    "person4.age = 22"
   ]
  },
  {
   "cell_type": "code",
   "execution_count": 17,
   "metadata": {},
   "outputs": [
    {
     "name": "stderr",
     "output_type": "stream",
     "text": [
      "\u001b[1;31merror: \u001b[0;1m'val' on secondary constructor parameter is not allowed\u001b[m\n",
      "    constructor(val firstName:String, val lastName:String):this(firstName, lastName, null)\n",
      "                ^\n",
      "\u001b[1;31merror: \u001b[0;1m'val' on secondary constructor parameter is not allowed\u001b[m\n",
      "    constructor(val firstName:String, val lastName:String):this(firstName, lastName, null)\n",
      "                                      ^\n"
     ]
    }
   ],
   "source": [
    "//두번째 생성자에는 val을 허용하지 않음\n",
    "class Person (val firstName:String, val lastName:String, val age:Int?){\n",
    "    //constructor 키워드 사용: this 키워드로 생성자 호출\n",
    "    constructor(val firstName:String, val lastName:String):this(firstName, lastName, null)\n",
    "    \n",
    "    init{\n",
    "        require(firstName.trim().length>0){\"Invalid firstName argument.\"}\n",
    "        require(lastName.trim().length>0){\"Invalid lastName argument.\"}\n",
    "        if(age != null){\n",
    "            require(age>=0&&age<150){\"Invalid age argument.\"}\n",
    "        }\n",
    "    }\n",
    "}"
   ]
  },
  {
   "cell_type": "markdown",
   "metadata": {},
   "source": [
    "- 생성자 접근 지정: private 설정\n",
    "  - Singleton: private\n",
    "  - 추상 클래스: protecte으로 지정"
   ]
  },
  {
   "cell_type": "code",
   "execution_count": 18,
   "metadata": {},
   "outputs": [],
   "source": [
    "class Person0 private constructor(firstName:String, lastName:String, howOld:Int?){\n",
    "    private val name:String\n",
    "    private val age:Int?\n",
    "    \n",
    "    init{\n",
    "        this.name = \"$firstName, $lastName\"\n",
    "        this.age = howOld\n",
    "    }\n",
    "    \n",
    "    fun getName():String = this.name\n",
    "    \n",
    "    fun getAge():Int?=this.age\n",
    "}"
   ]
  },
  {
   "cell_type": "markdown",
   "metadata": {},
   "source": [
    "- 생성자 val/var 미 설정시 접근 불가\n",
    "  - 밸도 get/set 설정 필요"
   ]
  },
  {
   "cell_type": "code",
   "execution_count": 19,
   "metadata": {},
   "outputs": [],
   "source": [
    "class Person2(firstName:String, lastName:String, val howOld:Int?){\n",
    "    private val name:String\n",
    "    private val age:Int?\n",
    "    \n",
    "    init{\n",
    "        this.name = \"$firstName, $lastName\"\n",
    "        this.age = howOld\n",
    "    }\n",
    "    \n",
    "    fun getName():String = this.name\n",
    "    \n",
    "    fun getAge():Int?=this.age\n",
    "}"
   ]
  },
  {
   "cell_type": "code",
   "execution_count": 20,
   "metadata": {},
   "outputs": [],
   "source": [
    "val p2 = Person2(\"Taewan\",\"Kim\", 42)"
   ]
  },
  {
   "cell_type": "code",
   "execution_count": 21,
   "metadata": {},
   "outputs": [
    {
     "name": "stderr",
     "output_type": "stream",
     "text": [
      "\u001b[1;31merror: \u001b[0;1munresolved reference: firstName\u001b[m\n",
      "p2.firstName\n",
      "   ^\n"
     ]
    }
   ],
   "source": [
    "p2.firstName"
   ]
  },
  {
   "cell_type": "code",
   "execution_count": 22,
   "metadata": {},
   "outputs": [
    {
     "name": "stderr",
     "output_type": "stream",
     "text": [
      "\u001b[1;31merror: \u001b[0;1munresolved reference: lastName\u001b[m\n",
      "p2.lastName\n",
      "   ^\n"
     ]
    }
   ],
   "source": [
    "p2.lastName"
   ]
  },
  {
   "cell_type": "code",
   "execution_count": 23,
   "metadata": {},
   "outputs": [
    {
     "data": {
      "text/plain": [
       "42"
      ]
     },
     "execution_count": 23,
     "metadata": {},
     "output_type": "execute_result"
    }
   ],
   "source": [
    "p2.howOld"
   ]
  },
  {
   "cell_type": "code",
   "execution_count": 24,
   "metadata": {},
   "outputs": [
    {
     "data": {
      "text/plain": [
       "Taewan, Kim"
      ]
     },
     "execution_count": 24,
     "metadata": {},
     "output_type": "execute_result"
    }
   ],
   "source": [
    "p2.getName()"
   ]
  },
  {
   "cell_type": "markdown",
   "metadata": {},
   "source": [
    "### Property"
   ]
  },
  {
   "cell_type": "markdown",
   "metadata": {},
   "source": [
    "![](./property.png)"
   ]
  },
  {
   "cell_type": "code",
   "execution_count": 25,
   "metadata": {},
   "outputs": [],
   "source": [
    "class Employee(_name:String){\n",
    "    var name:String=_name\n",
    "    get() = field\n",
    "    set(value){\n",
    "        field = value\n",
    "    }\n",
    "    \n",
    "}"
   ]
  },
  {
   "cell_type": "code",
   "execution_count": 26,
   "metadata": {},
   "outputs": [
    {
     "data": {
      "text/plain": [
       "tw"
      ]
     },
     "execution_count": 26,
     "metadata": {},
     "output_type": "execute_result"
    }
   ],
   "source": [
    "val e = Employee(\"tw\")\n",
    "e.name"
   ]
  },
  {
   "cell_type": "code",
   "execution_count": 27,
   "metadata": {},
   "outputs": [],
   "source": [
    "e.name=\"ms\""
   ]
  },
  {
   "cell_type": "code",
   "execution_count": 28,
   "metadata": {},
   "outputs": [
    {
     "data": {
      "text/plain": [
       "ms"
      ]
     },
     "execution_count": 28,
     "metadata": {},
     "output_type": "execute_result"
    }
   ],
   "source": [
    "e.name"
   ]
  },
  {
   "cell_type": "markdown",
   "metadata": {},
   "source": [
    "### Property - StackOverflowError"
   ]
  },
  {
   "cell_type": "code",
   "execution_count": 29,
   "metadata": {},
   "outputs": [],
   "source": [
    "class Employee(_name:String){\n",
    "    var name:String=_name\n",
    "        get() = field\n",
    "        set(value){\n",
    "            field = value\n",
    "        }\n",
    "    \n",
    "}"
   ]
  },
  {
   "cell_type": "code",
   "execution_count": 30,
   "metadata": {},
   "outputs": [
    {
     "data": {
      "text/plain": [
       "tw"
      ]
     },
     "execution_count": 30,
     "metadata": {},
     "output_type": "execute_result"
    }
   ],
   "source": [
    "val e = Employee(\"tw\")\n",
    "e.name"
   ]
  },
  {
   "cell_type": "code",
   "execution_count": 31,
   "metadata": {},
   "outputs": [],
   "source": [
    "//개념의 충돌..돌고돌고돌고\n",
    "e.name=\"ms\""
   ]
  },
  {
   "cell_type": "markdown",
   "metadata": {},
   "source": [
    "### 클래스 접근 레벨"
   ]
  },
  {
   "cell_type": "markdown",
   "metadata": {},
   "source": [
    "- internal\n",
    "- private\n",
    "- protected"
   ]
  },
  {
   "cell_type": "markdown",
   "metadata": {},
   "source": [
    "### 중첩 클래스"
   ]
  },
  {
   "cell_type": "code",
   "execution_count": 32,
   "metadata": {},
   "outputs": [],
   "source": [
    "class OuterClassName{\n",
    "    class NestedClassName{}\n",
    "}"
   ]
  },
  {
   "cell_type": "markdown",
   "metadata": {},
   "source": [
    "#### 중첩 클래스 접근 지정자 설정"
   ]
  },
  {
   "cell_type": "markdown",
   "metadata": {},
   "source": [
    "- 중첩 클래스 객채 생성"
   ]
  },
  {
   "cell_type": "code",
   "execution_count": 33,
   "metadata": {},
   "outputs": [],
   "source": [
    "class OuterClassName{\n",
    "    class NestedClassName{\n",
    "        fun check():String=\"nested class\"\n",
    "    }\n",
    "}"
   ]
  },
  {
   "cell_type": "code",
   "execution_count": 34,
   "metadata": {},
   "outputs": [],
   "source": [
    "//nested class 객체 생성\n",
    "val a = OuterClassName.NestedClassName()"
   ]
  },
  {
   "cell_type": "code",
   "execution_count": 35,
   "metadata": {},
   "outputs": [
    {
     "data": {
      "text/plain": [
       "nested class"
      ]
     },
     "execution_count": 35,
     "metadata": {},
     "output_type": "execute_result"
    }
   ],
   "source": [
    "a.check()"
   ]
  },
  {
   "cell_type": "markdown",
   "metadata": {},
   "source": [
    "- private 중첩 클래스 객채 생성"
   ]
  },
  {
   "cell_type": "code",
   "execution_count": 36,
   "metadata": {},
   "outputs": [
    {
     "name": "stderr",
     "output_type": "stream",
     "text": [
      "\u001b[1;31merror: \u001b[0;1m'public' function exposes its 'private' return type NestedClassName\u001b[m\n",
      "    fun getNestClassInstance() = NestedClassName()\n",
      "        ^\n"
     ]
    }
   ],
   "source": [
    "//private nested class의 인스턴스를 반활 할 수 없음\n",
    "class OuterClassName{\n",
    "    private class NestedClassName{\n",
    "        fun check():String=\"nested class\"\n",
    "    }\n",
    "    \n",
    "    fun getNestClassInstance() = NestedClassName()\n",
    "}"
   ]
  },
  {
   "cell_type": "code",
   "execution_count": 37,
   "metadata": {},
   "outputs": [],
   "source": [
    "//private nested class의 인스턴스를 반활 할 수 없음\n",
    "class OuterClassName{\n",
    "    private class NestedClassName{\n",
    "        fun check():String=\"nested class\"\n",
    "    }\n",
    "    \n",
    "    fun getNestedClassInstance():String{\n",
    "        return NestedClassName().check()\n",
    "    }\n",
    "}"
   ]
  },
  {
   "cell_type": "code",
   "execution_count": 38,
   "metadata": {},
   "outputs": [
    {
     "name": "stderr",
     "output_type": "stream",
     "text": [
      "\u001b[1;31merror: \u001b[0;1mcannot access 'NestedClassName': it is private in 'OuterClassName'\u001b[m\n",
      "OuterClassName.NestedClassName()\n",
      "               ^\n"
     ]
    }
   ],
   "source": [
    "//클래스 스코프 안에서만 인스턴스 생성 가능\n",
    "OuterClassName.NestedClassName()"
   ]
  },
  {
   "cell_type": "code",
   "execution_count": 39,
   "metadata": {},
   "outputs": [
    {
     "data": {
      "text/plain": [
       "nested class"
      ]
     },
     "execution_count": 39,
     "metadata": {},
     "output_type": "execute_result"
    }
   ],
   "source": [
    "//private nested class 인스턴스 사용 법\n",
    "val outer = OuterClassName()\n",
    "outer.getNestedClassInstance()"
   ]
  },
  {
   "cell_type": "markdown",
   "metadata": {},
   "source": [
    "### 중첩 클래스 - static"
   ]
  },
  {
   "cell_type": "markdown",
   "metadata": {},
   "source": [
    "- static nested class\n",
    "- inner class"
   ]
  },
  {
   "cell_type": "code",
   "execution_count": 40,
   "metadata": {},
   "outputs": [],
   "source": [
    "class BasicGraph(val name:String){\n",
    "\n",
    "    class Line(val x1:Int, val y1:Int, val x2:Int, val y2:Int) {\n",
    "        fun draw(): Unit {\n",
    "            println(\"Drawing Line: ($x1:$y1, $x2:$y2)\")\n",
    "        }\n",
    "        \n",
    "    }\n",
    "\n",
    "}"
   ]
  },
  {
   "cell_type": "code",
   "execution_count": 41,
   "metadata": {},
   "outputs": [],
   "source": [
    "val line = BasicGraph.Line(1, 1, 2, 2)"
   ]
  },
  {
   "cell_type": "code",
   "execution_count": 42,
   "metadata": {},
   "outputs": [
    {
     "name": "stdout",
     "output_type": "stream",
     "text": [
      "Drawing Line: (1:1, 2:2)\n"
     ]
    }
   ],
   "source": [
    "line.draw()"
   ]
  },
  {
   "cell_type": "markdown",
   "metadata": {},
   "source": [
    "### 내부 클래스에서 외부 클래스 private 접근\n",
    "\n",
    "- 외부 클래스의 멤버에 접근하기 위해서 inner 키워드 추가"
   ]
  },
  {
   "cell_type": "code",
   "execution_count": 43,
   "metadata": {},
   "outputs": [],
   "source": [
    "class BasicGraph(val graphName:String){\n",
    "    private val name:String\n",
    "    \n",
    "    init{\n",
    "        this.name = graphName\n",
    "    }\n",
    "\n",
    "    inner class Line(val x1:Int, val y1:Int, val x2:Int, val y2:Int) {\n",
    "        fun draw():Unit{\n",
    "            println(\"Drawing Line: ($x1:$y1, $x2:$y2)\")\n",
    "        }\n",
    "        \n",
    "        fun getName():Unit{\n",
    "            println(\"Drawing: $name\")\n",
    "        }\n",
    "\n",
    "    }\n",
    "\n",
    "}"
   ]
  },
  {
   "cell_type": "code",
   "execution_count": 44,
   "metadata": {},
   "outputs": [
    {
     "name": "stdout",
     "output_type": "stream",
     "text": [
      "Drawing: demo graph\n"
     ]
    }
   ],
   "source": [
    "//Line 객체에서 outer 클래스의 name 멤버 접근\n",
    "val line = BasicGraph(\"demo graph\").Line(1, 1, 2, 2)\n",
    "line.getName()"
   ]
  },
  {
   "cell_type": "code",
   "execution_count": 45,
   "metadata": {},
   "outputs": [
    {
     "name": "stdout",
     "output_type": "stream",
     "text": [
      "Drawing Line: (1:1, 2:2)\n"
     ]
    }
   ],
   "source": [
    "line.draw()"
   ]
  },
  {
   "cell_type": "code",
   "execution_count": 46,
   "metadata": {},
   "outputs": [
    {
     "name": "stderr",
     "output_type": "stream",
     "text": [
      "\u001b[1;31merror: \u001b[0;1munresolved reference: Line\u001b[m\n",
      "val line = BasicGraph.Line(1, 1, 2, 2)\n",
      "                      ^\n"
     ]
    }
   ],
   "source": [
    "//outer 객체 생성이 선행되어야 함\n",
    "val line = BasicGraph.Line(1, 1, 2, 2)"
   ]
  },
  {
   "cell_type": "markdown",
   "metadata": {},
   "source": [
    "### 스코프 지정 this\n",
    "\n",
    "- \"this@클래스명\"으로 검색 스코프를 지정할 수 있음"
   ]
  },
  {
   "cell_type": "code",
   "execution_count": 47,
   "metadata": {},
   "outputs": [],
   "source": [
    "class A{\n",
    "\n",
    "    private val somefield:Int = 1\n",
    "    \n",
    "    inner class B {\n",
    "        private val somefield:Int = 2\n",
    "        \n",
    "        fun foo(s:String){\n",
    "            println(\"Field <somefield> from B=> \"+this.somefield)\n",
    "            println(\"Field <somefield> from B=> \"+this@B.somefield)\n",
    "            println(\"Field <somefield> from A=> \"+this@A.somefield)\n",
    "        }\n",
    "    }\n",
    "}"
   ]
  },
  {
   "cell_type": "code",
   "execution_count": 48,
   "metadata": {},
   "outputs": [
    {
     "name": "stdout",
     "output_type": "stream",
     "text": [
      "Field <somefield> from B=> 2\n",
      "Field <somefield> from B=> 2\n",
      "Field <somefield> from A=> 1\n"
     ]
    }
   ],
   "source": [
    "val b = A().B()\n",
    "b.foo(\"demo\")"
   ]
  },
  {
   "cell_type": "markdown",
   "metadata": {},
   "source": [
    "- 내부외부 클래스에 동일 이름 처리"
   ]
  },
  {
   "cell_type": "markdown",
   "metadata": {},
   "source": [
    "```kotlin\n",
    "class Controller{\n",
    "    private var clikcs:Int = 0\n",
    "    \n",
    "    fun enableHook(){\n",
    "        button.addMouseListener(\n",
    "            object:MouseAdapter(){\n",
    "                override fun mouseClicked(e:MouseEvent){clicks++}\n",
    "            }\n",
    "        )\n",
    "    }\n",
    "}\n",
    "```"
   ]
  },
  {
   "cell_type": "markdown",
   "metadata": {},
   "source": [
    "## 데이터 클래스\n",
    "\n",
    "- scala의  case class"
   ]
  },
  {
   "cell_type": "code",
   "execution_count": 49,
   "metadata": {},
   "outputs": [],
   "source": [
    "data class Customer(val id:Int, val name:String, var address:String)"
   ]
  },
  {
   "cell_type": "code",
   "execution_count": 50,
   "metadata": {},
   "outputs": [],
   "source": [
    "val c1 = Customer(1, \"taewan\", \"seoul\")"
   ]
  },
  {
   "cell_type": "code",
   "execution_count": 51,
   "metadata": {},
   "outputs": [
    {
     "data": {
      "text/plain": [
       "1"
      ]
     },
     "execution_count": 51,
     "metadata": {},
     "output_type": "execute_result"
    }
   ],
   "source": [
    "c1.id"
   ]
  },
  {
   "cell_type": "code",
   "execution_count": 52,
   "metadata": {},
   "outputs": [
    {
     "data": {
      "text/plain": [
       "taewan"
      ]
     },
     "execution_count": 52,
     "metadata": {},
     "output_type": "execute_result"
    }
   ],
   "source": [
    "c1.name"
   ]
  },
  {
   "cell_type": "code",
   "execution_count": 53,
   "metadata": {},
   "outputs": [
    {
     "data": {
      "text/plain": [
       "seoul"
      ]
     },
     "execution_count": 53,
     "metadata": {},
     "output_type": "execute_result"
    }
   ],
   "source": [
    "c1.address"
   ]
  },
  {
   "cell_type": "code",
   "execution_count": 54,
   "metadata": {},
   "outputs": [
    {
     "data": {
      "text/plain": [
       "Customer(id=1, name=taewan, address=seoul)"
      ]
     },
     "execution_count": 54,
     "metadata": {},
     "output_type": "execute_result"
    }
   ],
   "source": [
    "c1"
   ]
  },
  {
   "cell_type": "code",
   "execution_count": 55,
   "metadata": {},
   "outputs": [
    {
     "data": {
      "text/plain": [
       "Customer(id=1, name=taewan, address=seoul)"
      ]
     },
     "execution_count": 55,
     "metadata": {},
     "output_type": "execute_result"
    }
   ],
   "source": [
    "c1.toString()"
   ]
  },
  {
   "cell_type": "code",
   "execution_count": 56,
   "metadata": {},
   "outputs": [],
   "source": [
    "val c2 = Customer(1, \"taewan\", \"seoul\")\n",
    "val c3 = Customer(1, \"taewan\", \"seoul\")"
   ]
  },
  {
   "cell_type": "code",
   "execution_count": 57,
   "metadata": {},
   "outputs": [
    {
     "data": {
      "text/plain": [
       "true"
      ]
     },
     "execution_count": 57,
     "metadata": {},
     "output_type": "execute_result"
    }
   ],
   "source": [
    "c2 == c3 //데이터 클래스"
   ]
  },
  {
   "cell_type": "code",
   "execution_count": 58,
   "metadata": {},
   "outputs": [
    {
     "data": {
      "text/plain": [
       "false"
      ]
     },
     "execution_count": 58,
     "metadata": {},
     "output_type": "execute_result"
    }
   ],
   "source": [
    "c2 === c3"
   ]
  },
  {
   "cell_type": "markdown",
   "metadata": {},
   "source": [
    "## 열거형 클래스"
   ]
  },
  {
   "cell_type": "code",
   "execution_count": 59,
   "metadata": {},
   "outputs": [],
   "source": [
    "enum class Day{MONDAY, TUESDAY, WEDNSDAY, THUSDAY, FRIDAY, SATURDAY, SUNDAY}"
   ]
  },
  {
   "cell_type": "code",
   "execution_count": 60,
   "metadata": {},
   "outputs": [
    {
     "data": {
      "text/plain": [
       "MONDAY"
      ]
     },
     "execution_count": 60,
     "metadata": {},
     "output_type": "execute_result"
    }
   ],
   "source": [
    "Day.MONDAY"
   ]
  },
  {
   "cell_type": "code",
   "execution_count": 61,
   "metadata": {},
   "outputs": [
    {
     "data": {
      "text/plain": [
       "true"
      ]
     },
     "execution_count": 61,
     "metadata": {},
     "output_type": "execute_result"
    }
   ],
   "source": [
    "Day.MONDAY==Day.MONDAY"
   ]
  },
  {
   "cell_type": "code",
   "execution_count": 62,
   "metadata": {},
   "outputs": [
    {
     "data": {
      "text/plain": [
       "false"
      ]
     },
     "execution_count": 62,
     "metadata": {},
     "output_type": "execute_result"
    }
   ],
   "source": [
    "Day.MONDAY == Day.SUNDAY"
   ]
  },
  {
   "cell_type": "markdown",
   "metadata": {},
   "source": [
    "- 열거형 클래스에 생성자 할당 가능"
   ]
  },
  {
   "cell_type": "code",
   "execution_count": 1,
   "metadata": {},
   "outputs": [],
   "source": [
    "enum class Planet(val mass:Double, val radius:Double){\n",
    "MERURY(3.303e+23, 2.4397e6),\n",
    "VENUS(4.868e+24, 6.0518e6)\n",
    "}"
   ]
  },
  {
   "cell_type": "code",
   "execution_count": 2,
   "metadata": {},
   "outputs": [
    {
     "data": {
      "text/plain": [
       "VENUS"
      ]
     },
     "execution_count": 2,
     "metadata": {},
     "output_type": "execute_result"
    }
   ],
   "source": [
    "Planet.valueOf(\"VENUS\")"
   ]
  },
  {
   "cell_type": "code",
   "execution_count": 3,
   "metadata": {},
   "outputs": [
    {
     "data": {
      "text/plain": [
       "4.868E24"
      ]
     },
     "execution_count": 3,
     "metadata": {},
     "output_type": "execute_result"
    }
   ],
   "source": [
    "Planet.VENUS.mass"
   ]
  },
  {
   "cell_type": "code",
   "execution_count": 4,
   "metadata": {},
   "outputs": [
    {
     "data": {
      "text/plain": [
       "6051800.0"
      ]
     },
     "execution_count": 4,
     "metadata": {},
     "output_type": "execute_result"
    }
   ],
   "source": [
    "Planet.VENUS.radius"
   ]
  },
  {
   "cell_type": "code",
   "execution_count": 5,
   "metadata": {},
   "outputs": [
    {
     "name": "stdout",
     "output_type": "stream",
     "text": [
      "mass: 3.303E23, radius: 2439700.0\n",
      "mass: 4.868E24, radius: 6051800.0\n"
     ]
    }
   ],
   "source": [
    "val values = Planet.values()\n",
    "\n",
    "for(v in values){\n",
    "    println(\"mass: ${v.mass}, radius: ${v.radius}\")\n",
    "}"
   ]
  },
  {
   "cell_type": "markdown",
   "metadata": {},
   "source": [
    "- ENUM 형, 인터페이스 구현"
   ]
  },
  {
   "cell_type": "code",
   "execution_count": 6,
   "metadata": {},
   "outputs": [],
   "source": [
    "interface Printable{\n",
    "    fun print():Unit\n",
    "}"
   ]
  },
  {
   "cell_type": "code",
   "execution_count": 7,
   "metadata": {},
   "outputs": [],
   "source": [
    "enum class Word:Printable{\n",
    "HELLO{\n",
    "    override fun print(){\n",
    "        println(\"Word is Hello\")\n",
    "    }\n",
    "},\n",
    "BUY{\n",
    "    override fun print(){\n",
    "        println(\"Word is Buy\")\n",
    "    }\n",
    "}\n",
    "}"
   ]
  },
  {
   "cell_type": "code",
   "execution_count": 8,
   "metadata": {},
   "outputs": [],
   "source": [
    "val hello = Word.HELLO"
   ]
  },
  {
   "cell_type": "code",
   "execution_count": 9,
   "metadata": {},
   "outputs": [
    {
     "name": "stdout",
     "output_type": "stream",
     "text": [
      "Word is Hello\n"
     ]
    }
   ],
   "source": [
    "hello.print()"
   ]
  },
  {
   "cell_type": "markdown",
   "metadata": {},
   "source": [
    "## 정적 메서드와 컴패니언 메서드"
   ]
  },
  {
   "cell_type": "markdown",
   "metadata": {},
   "source": [
    "- 클래스를 위하 정적 메서드를 지원하지 않음\n",
    "- 패지키에 함수 정의"
   ]
  },
  {
   "cell_type": "markdown",
   "metadata": {},
   "source": [
    "#### singleton 만들기\n",
    "- scala의 방식 사용"
   ]
  },
  {
   "cell_type": "code",
   "execution_count": 10,
   "metadata": {},
   "outputs": [],
   "source": [
    "object Singleton{\n",
    "    private var count = 0\n",
    "    \n",
    "    fun doSomeThing():Unit {\n",
    "        println(\"print: ${++count}\")\n",
    "    }\n",
    "}"
   ]
  },
  {
   "cell_type": "code",
   "execution_count": 11,
   "metadata": {},
   "outputs": [
    {
     "name": "stdout",
     "output_type": "stream",
     "text": [
      "print: 1\n"
     ]
    }
   ],
   "source": [
    "Singleton.doSomeThing()"
   ]
  },
  {
   "cell_type": "code",
   "execution_count": 12,
   "metadata": {},
   "outputs": [
    {
     "name": "stdout",
     "output_type": "stream",
     "text": [
      "print: 2\n"
     ]
    }
   ],
   "source": [
    "Singleton.doSomeThing()"
   ]
  },
  {
   "cell_type": "code",
   "execution_count": 13,
   "metadata": {},
   "outputs": [
    {
     "name": "stdout",
     "output_type": "stream",
     "text": [
      "print: 3\n"
     ]
    }
   ],
   "source": [
    "Singleton.doSomeThing()"
   ]
  },
  {
   "cell_type": "markdown",
   "metadata": {},
   "source": [
    "#### 상속이 가능한 컴패니언 메서드"
   ]
  },
  {
   "cell_type": "code",
   "execution_count": 14,
   "metadata": {},
   "outputs": [],
   "source": [
    "open class SingletonParent(var x:Int){\n",
    "    fun something():Unit{\n",
    "        println(\"X=${x++}\")\n",
    "    }\n",
    "}"
   ]
  },
  {
   "cell_type": "code",
   "execution_count": 15,
   "metadata": {},
   "outputs": [],
   "source": [
    "object SingletonDerive:SingletonParent(10){}"
   ]
  },
  {
   "cell_type": "code",
   "execution_count": 16,
   "metadata": {},
   "outputs": [
    {
     "name": "stdout",
     "output_type": "stream",
     "text": [
      "X=10\n"
     ]
    }
   ],
   "source": [
    "SingletonDerive.something()"
   ]
  },
  {
   "cell_type": "code",
   "execution_count": 17,
   "metadata": {},
   "outputs": [
    {
     "name": "stdout",
     "output_type": "stream",
     "text": [
      "X=11\n"
     ]
    }
   ],
   "source": [
    "SingletonDerive.something()"
   ]
  },
  {
   "cell_type": "markdown",
   "metadata": {},
   "source": [
    "- Companion: Factory Design Pattern\n",
    "  - 인터페이스 생성\n",
    "  - companion 객체 등록\n",
    "    - override\n",
    "  - companion 객체의 메서드를 static처럼 호출"
   ]
  },
  {
   "cell_type": "code",
   "execution_count": 18,
   "metadata": {},
   "outputs": [],
   "source": [
    "interface StudentFactory{\n",
    "    fun create(name:String):Student\n",
    "}\n",
    "\n",
    "//Kotlin은 static method를 제공하지 않음\n",
    "//코틀린에서 정적 메서드를 호출하는 방법\n",
    "//companion object로 지정\n",
    "class Student private constructor(val name:String){\n",
    "    companion object:StudentFactory{\n",
    "        override fun create(name:String):Student{\n",
    "            return Student(name)\n",
    "        }\n",
    "    }\n",
    "}"
   ]
  },
  {
   "cell_type": "code",
   "execution_count": 19,
   "metadata": {},
   "outputs": [],
   "source": [
    "val student = Student.create(\"taewan\")"
   ]
  },
  {
   "cell_type": "code",
   "execution_count": 20,
   "metadata": {},
   "outputs": [
    {
     "data": {
      "text/plain": [
       "taewan"
      ]
     },
     "execution_count": 20,
     "metadata": {},
     "output_type": "execute_result"
    }
   ],
   "source": [
    "student.name"
   ]
  },
  {
   "cell_type": "markdown",
   "metadata": {},
   "source": [
    "## 인터페이스"
   ]
  },
  {
   "cell_type": "markdown",
   "metadata": {},
   "source": [
    "- 인터페이스는 메서드 구현체를 갖을 수 있다.\n",
    "- 상태를 갖을 수는 없음\n",
    "- property를 갖을 수 있음"
   ]
  },
  {
   "cell_type": "code",
   "execution_count": 21,
   "metadata": {},
   "outputs": [],
   "source": [
    "import java.io.*\n",
    "\n",
    "interface Document{\n",
    "    val version:Long\n",
    "    val size:Long\n",
    "    \n",
    "    val name:String\n",
    "    get()=\"NoName\"\n",
    "    \n",
    "    fun save(input:InputStream)\n",
    "    fun load(stream:OutputStream)\n",
    "    fun getDescription():String{\n",
    "        return \"Document $name has $size byte(-s)\"\n",
    "    }\n",
    "}"
   ]
  },
  {
   "cell_type": "markdown",
   "metadata": {},
   "source": [
    "- 프로퍼티 3개\n",
    "- 메서드: 3개"
   ]
  },
  {
   "cell_type": "code",
   "execution_count": 22,
   "metadata": {},
   "outputs": [],
   "source": [
    "//프로퍼티 구현 예제\n",
    "class Test {\n",
    "var name: String = \"\"\n",
    "  get() = if (field.length > 0) field else \"name\"\n",
    "  set (value) {\n",
    "      if (value.length > 0) field = value else \"\"\n",
    "  }\n",
    "}"
   ]
  },
  {
   "cell_type": "code",
   "execution_count": 23,
   "metadata": {},
   "outputs": [],
   "source": [
    "val a = Test()"
   ]
  },
  {
   "cell_type": "code",
   "execution_count": 24,
   "metadata": {},
   "outputs": [],
   "source": [
    "a.name=\"\""
   ]
  },
  {
   "cell_type": "code",
   "execution_count": 25,
   "metadata": {},
   "outputs": [
    {
     "data": {
      "text/plain": [
       "name"
      ]
     },
     "execution_count": 25,
     "metadata": {},
     "output_type": "execute_result"
    }
   ],
   "source": [
    "a.name"
   ]
  },
  {
   "cell_type": "code",
   "execution_count": 26,
   "metadata": {},
   "outputs": [],
   "source": [
    "a.name=\"taewan\""
   ]
  },
  {
   "cell_type": "code",
   "execution_count": 27,
   "metadata": {},
   "outputs": [
    {
     "data": {
      "text/plain": [
       "taewan"
      ]
     },
     "execution_count": 27,
     "metadata": {},
     "output_type": "execute_result"
    }
   ],
   "source": [
    "a.name"
   ]
  },
  {
   "cell_type": "markdown",
   "metadata": {},
   "source": [
    "```java\n",
    "public class MyDcoument implements Document{\n",
    "    public long getVersion(){\n",
    "        return 0;\n",
    "    }\n",
    "    \n",
    "    pubic long getSize(){\n",
    "        return 0;\n",
    "    }\n",
    "    \n",
    "    public void save(@NotNull InputStream input){}\n",
    "    \n",
    "    public void load(@NotNull OutputStream stream){}\n",
    "    \n",
    "    public String getName(){\n",
    "        return null;\n",
    "    }\n",
    "    \n",
    "    public String getDescritipn(){\n",
    "        return null;\n",
    "    }\n",
    "}\n",
    "```"
   ]
  },
  {
   "cell_type": "markdown",
   "metadata": {},
   "source": [
    "- kotlin 구현 "
   ]
  },
  {
   "cell_type": "code",
   "execution_count": 28,
   "metadata": {},
   "outputs": [],
   "source": [
    "//override 키워드 사용\n",
    "//property 기법으로 단순화\n",
    "class DocumentImpl:Document{\n",
    "    override val size:Long\n",
    "    get()=0\n",
    "    \n",
    "    override fun load(stream:OutputStream){}\n",
    "    override fun save(stream:InputStream){}\n",
    "    \n",
    "    override val version:Long\n",
    "    get()=0\n",
    "}"
   ]
  },
  {
   "cell_type": "markdown",
   "metadata": {},
   "source": [
    "## 상속: Inheritance"
   ]
  },
  {
   "cell_type": "markdown",
   "metadata": {},
   "source": [
    "- Super class, Parent class\n",
    "- Derived class"
   ]
  },
  {
   "cell_type": "markdown",
   "metadata": {},
   "source": [
    "- 최상위 클래스:Any\n",
    "  - 부모가 없는 클래스 정의: Any\n",
    "  - default method\n",
    "    - equals\n",
    "    - toString\n",
    "    - hashCode"
   ]
  },
  {
   "cell_type": "markdown",
   "metadata": {},
   "source": [
    "- open으로 선언된 클래스을 상속할 수 있음"
   ]
  },
  {
   "cell_type": "code",
   "execution_count": 29,
   "metadata": {},
   "outputs": [],
   "source": [
    "enum class CardType{\n",
    "    VISA,\n",
    "    MASTERCARD,\n",
    "    AMEX\n",
    "}"
   ]
  },
  {
   "cell_type": "code",
   "execution_count": 30,
   "metadata": {},
   "outputs": [],
   "source": [
    "//open 상송 가능한 클래스이다.\n",
    "import java.math.BigDecimal\n",
    "open class Payment(val amount:BigDecimal)"
   ]
  },
  {
   "cell_type": "code",
   "execution_count": 31,
   "metadata": {},
   "outputs": [],
   "source": [
    "import java.util.Date\n",
    "\n",
    "class CardPayment(amount:BigDecimal, \n",
    "            val number:String, \n",
    "            val expireDate:Date, \n",
    "            val type:CardType):Payment(amount)"
   ]
  },
  {
   "cell_type": "markdown",
   "metadata": {},
   "source": [
    "- ```:```는 자바의 extends 키워드"
   ]
  },
  {
   "cell_type": "markdown",
   "metadata": {},
   "source": [
    "- 주 생성자가 없는 예제"
   ]
  },
  {
   "cell_type": "code",
   "execution_count": 32,
   "metadata": {},
   "outputs": [],
   "source": [
    "class ChequeuePayment:Payment{\n",
    "    constructor(amount:BigDecimal,\n",
    "                name:String,\n",
    "                bankId:String):super(amount){\n",
    "                this.name = name\n",
    "                this.bankId = bankId                \n",
    "    }\n",
    "    \n",
    "    var name:String=\"\"\n",
    "      get(){\n",
    "        return field\n",
    "      }\n",
    "    \n",
    "    var bankId:String=\"\"\n",
    "      get(){\n",
    "        return field\n",
    "      }\n",
    "}"
   ]
  },
  {
   "cell_type": "code",
   "execution_count": 33,
   "metadata": {},
   "outputs": [],
   "source": [
    "val a = ChequeuePayment(BigDecimal(100), \"taewan\", \"111\")"
   ]
  },
  {
   "cell_type": "code",
   "execution_count": 34,
   "metadata": {},
   "outputs": [
    {
     "data": {
      "text/plain": [
       "111"
      ]
     },
     "execution_count": 34,
     "metadata": {},
     "output_type": "execute_result"
    }
   ],
   "source": [
    "a.bankId"
   ]
  },
  {
   "cell_type": "code",
   "execution_count": 35,
   "metadata": {},
   "outputs": [
    {
     "data": {
      "text/plain": [
       "taewan"
      ]
     },
     "execution_count": 35,
     "metadata": {},
     "output_type": "execute_result"
    }
   ],
   "source": [
    "a.name"
   ]
  },
  {
   "cell_type": "markdown",
   "metadata": {},
   "source": [
    "- 두개의 인터페이스 상속 예제"
   ]
  },
  {
   "cell_type": "code",
   "execution_count": 36,
   "metadata": {},
   "outputs": [],
   "source": [
    "interface Drivable{\n",
    "    fun drive()\n",
    "}\n",
    "\n",
    "interface Sailable{\n",
    "    fun sail()\n",
    "}\n",
    "\n",
    "class AmphibiousCar(val name:String):Drivable, Sailable{\n",
    "    override fun drive(){\n",
    "        println(\"Driving...\")\n",
    "    }\n",
    "    \n",
    "    override fun sail(){\n",
    "        println(\"sailing...\")\n",
    "    }\n",
    "}"
   ]
  },
  {
   "cell_type": "markdown",
   "metadata": {},
   "source": [
    "- 상속에 대한 객체와 인터페이스의 구분은 없음\n",
    "- 클래스를 가장 앞에 둘 필요는 없음\n"
   ]
  },
  {
   "cell_type": "code",
   "execution_count": 37,
   "metadata": {},
   "outputs": [],
   "source": [
    "import java.io.*\n",
    "\n",
    "interface IPersistable{\n",
    "    fun save(stream:InputStream)\n",
    "}\n",
    "\n",
    "interface IPrintable{\n",
    "    fun print()\n",
    "}\n",
    "\n",
    "open class Document(val title:String)\n",
    "\n",
    "class TextDocument(title:String): IPersistable, Document(title), IPrintable{\n",
    "    override fun save(stream:InputStream){\n",
    "        println(\"saving to input stream\")\n",
    "    }\n",
    "    \n",
    "    override fun print(){\n",
    "        println(\"Document title: ${title}\")\n",
    "    }\n",
    "}"
   ]
  },
  {
   "cell_type": "code",
   "execution_count": 38,
   "metadata": {},
   "outputs": [
    {
     "name": "stdout",
     "output_type": "stream",
     "text": [
      "Document title: text document\n"
     ]
    }
   ],
   "source": [
    "val td = TextDocument(\"text document\")\n",
    "td.print()"
   ]
  },
  {
   "cell_type": "markdown",
   "metadata": {},
   "source": [
    "## 가시성 제어자"
   ]
  },
  {
   "cell_type": "markdown",
   "metadata": {},
   "source": [
    "- public\n",
    "- internal\n",
    "- protected\n",
    "- private"
   ]
  },
  {
   "cell_type": "markdown",
   "metadata": {},
   "source": [
    "- open으로 설정된 클래스의 멤버에 대한 가시성은 자식 클래스에서 override 가능"
   ]
  },
  {
   "cell_type": "code",
   "execution_count": 39,
   "metadata": {},
   "outputs": [],
   "source": [
    "open class Container{\n",
    "    protected open val fieldA:String=\"Some value\"\n",
    "}\n",
    "\n",
    "//상속하여 필드의 가시성 제어자 변경\n",
    "class DeriveContainer:Container(){\n",
    "    public override val fieldA:String=\"Something else\"\n",
    "}"
   ]
  },
  {
   "cell_type": "code",
   "execution_count": 40,
   "metadata": {},
   "outputs": [],
   "source": [
    "val dc = DeriveContainer()"
   ]
  },
  {
   "cell_type": "code",
   "execution_count": 41,
   "metadata": {},
   "outputs": [
    {
     "data": {
      "text/plain": [
       "Something else"
      ]
     },
     "execution_count": 41,
     "metadata": {},
     "output_type": "execute_result"
    }
   ],
   "source": [
    "dc.fieldA"
   ]
  },
  {
   "cell_type": "code",
   "execution_count": 42,
   "metadata": {},
   "outputs": [
    {
     "name": "stdout",
     "output_type": "stream",
     "text": [
      "DerivedContainer.fieldA:Something else\n"
     ]
    }
   ],
   "source": [
    "//접근 허용\n",
    "println(\"DerivedContainer.fieldA:${dc.fieldA}\")"
   ]
  },
  {
   "cell_type": "code",
   "execution_count": 43,
   "metadata": {},
   "outputs": [
    {
     "name": "stderr",
     "output_type": "stream",
     "text": [
      "\u001b[1;31merror: \u001b[0;1mcannot access 'fieldA': it is protected in 'Container'\u001b[m\n",
      "container.fieldA\n",
      "          ^\n"
     ]
    }
   ],
   "source": [
    "//접근 오류\n",
    "val container = Container()\n",
    "container.fieldA"
   ]
  },
  {
   "cell_type": "markdown",
   "metadata": {},
   "source": [
    "## 추상 클래스"
   ]
  },
  {
   "cell_type": "code",
   "execution_count": 44,
   "metadata": {},
   "outputs": [],
   "source": [
    "abstract class A{\n",
    "    abstract fun doSomething()\n",
    "}"
   ]
  },
  {
   "cell_type": "markdown",
   "metadata": {},
   "source": [
    "- body 구현부가 없는 메서드는 abstract를 추가"
   ]
  },
  {
   "cell_type": "markdown",
   "metadata": {},
   "source": [
    "- 상속한 클래스를 abstract로 재 정의할 수 있다."
   ]
  },
  {
   "cell_type": "code",
   "execution_count": 45,
   "metadata": {},
   "outputs": [],
   "source": [
    "import java.util.Random\n",
    "\n",
    "open class AParent protected constructor(){\n",
    "    open fun someMethod():Int = Random().nextInt()\n",
    "}\n",
    "\n",
    "abstract class DDrived:AParent(){\n",
    "    abstract override fun someMethod():Int\n",
    "}"
   ]
  },
  {
   "cell_type": "code",
   "execution_count": 46,
   "metadata": {},
   "outputs": [],
   "source": [
    "class AlwaysOne:DDrived(){\n",
    "    override fun someMethod():Int{\n",
    "        return 1\n",
    "    }\n",
    "}"
   ]
  },
  {
   "cell_type": "code",
   "execution_count": 47,
   "metadata": {},
   "outputs": [
    {
     "name": "stderr",
     "output_type": "stream",
     "text": [
      "\u001b[1;31merror: \u001b[0;1mcannot create an instance of an abstract class\u001b[m\n",
      "val a = DDrived()\n",
      "        ^\n"
     ]
    }
   ],
   "source": [
    "val a = DDrived()"
   ]
  },
  {
   "cell_type": "code",
   "execution_count": 48,
   "metadata": {},
   "outputs": [],
   "source": [
    "val a = AlwaysOne()"
   ]
  },
  {
   "cell_type": "code",
   "execution_count": 49,
   "metadata": {},
   "outputs": [
    {
     "data": {
      "text/plain": [
       "1"
      ]
     },
     "execution_count": 49,
     "metadata": {},
     "output_type": "execute_result"
    }
   ],
   "source": [
    "a.someMethod()"
   ]
  },
  {
   "cell_type": "markdown",
   "metadata": {},
   "source": [
    "## 인터페이스 또는 추상 클래스"
   ]
  },
  {
   "cell_type": "markdown",
   "metadata": {},
   "source": [
    "- Is-a & Can-Do\n",
    "  - 자식 클래스 B에 대해서, B is-an A라고 말할 수 없다면: 인터페이스 사용\n",
    "  - Interface는 Can-Do 관계\n",
    "- 코드 재사용 촉진: Abstract\n",
    "- 버전관리\n",
    "  - Interface 변경: 모든 구현 클래스 수정 후 재 컴파일\n",
    "  - Abstract는 변경 후 별도 작업이 필요 없음"
   ]
  },
  {
   "cell_type": "markdown",
   "metadata": {},
   "source": [
    "## 다형성"
   ]
  },
  {
   "cell_type": "markdown",
   "metadata": {},
   "source": [
    "- 어떻게에서 무엇을을 분리\n",
    "- 코드 조직화와 가독성 향상\n",
    "- 확장성"
   ]
  },
  {
   "cell_type": "markdown",
   "metadata": {},
   "source": [
    "- 다형성의 강력함\n",
    "  - 파생된 클래스의 객체가 기본 클래스의 객체로 다뤄질때 나타남"
   ]
  },
  {
   "cell_type": "code",
   "execution_count": 1,
   "metadata": {},
   "outputs": [],
   "source": [
    "abstract class Shape protected constructor() {\n",
    "    private var _xLocation:Int = 0\n",
    "    private var _yLocation:Int = 0\n",
    "    private var _width:Int = 0\n",
    "    private var _height:Int = 0\n",
    "\n",
    "    var XLocation: Int\n",
    "        get() = this._xLocation\n",
    "        set(value: Int) {\n",
    "            this._xLocation = value\n",
    "        }\n",
    "\n",
    "    var YLocation: Int\n",
    "        get() = this._yLocation\n",
    "        set(value: Int) {\n",
    "            this._yLocation = value\n",
    "        }\n",
    "\n",
    "    var Width: Int\n",
    "        get() = this._width\n",
    "        set(value: Int) {\n",
    "            this._width = value\n",
    "        }\n",
    "\n",
    "    var Height: Int\n",
    "        get() = this._height\n",
    "        set(value: Int) {\n",
    "            this._height = value\n",
    "        }\n",
    "\n",
    "    abstract fun isHit(x: Int, y: Int): Boolean\n",
    "\n",
    "}"
   ]
  },
  {
   "cell_type": "code",
   "execution_count": 2,
   "metadata": {},
   "outputs": [],
   "source": [
    "class Ellipsis : Shape() {\n",
    "\n",
    "    override fun isHit(x: Int, y: Int): Boolean {\n",
    "        val xRadius = Width.toDouble() / 2\n",
    "        val yRadius = Height.toDouble() / 2\n",
    "\n",
    "        val centerX = XLocation + xRadius\n",
    "        val centerY = YLocation + yRadius\n",
    "\n",
    "        if (xRadius == 0.0 || yRadius == 0.0)\n",
    "            return false\n",
    "\n",
    "\n",
    "        val normalizedX = centerX - XLocation\n",
    "        val normalizedY = centerY - YLocation\n",
    "\n",
    "        return (normalizedX * normalizedX) / (xRadius * xRadius) + (normalizedY * normalizedY) / (yRadius * yRadius) <= 1.0\n",
    "    }\n",
    "}"
   ]
  },
  {
   "cell_type": "code",
   "execution_count": 3,
   "metadata": {},
   "outputs": [],
   "source": [
    "class Rectangular : Shape() {\n",
    "    override fun isHit(x: Int, y: Int): Boolean {\n",
    "        return x >= XLocation && x <= (XLocation + Width) && y >= YLocation && y <= YLocation + Height\n",
    "    }\n",
    "}"
   ]
  },
  {
   "cell_type": "code",
   "execution_count": 4,
   "metadata": {},
   "outputs": [
    {
     "name": "stdout",
     "output_type": "stream",
     "text": [
      "A shape of type Rectangular has been selected.\n"
     ]
    }
   ],
   "source": [
    "    val e1 = Ellipsis()\n",
    "    e1.Height = 10\n",
    "    e1.Width = 12\n",
    "\n",
    "    val e2 = Ellipsis()\n",
    "    e2.XLocation = 100\n",
    "    e2.YLocation = 96\n",
    "    e1.Height = 21\n",
    "    e1.Width = 19\n",
    "\n",
    "    val r1 = Rectangular()\n",
    "    r1.XLocation = 49\n",
    "    r1.YLocation = 45\n",
    "    r1.Width = 10\n",
    "    r1.Height = 10\n",
    "\n",
    "    val shapes = listOf<Shape>(e1, e2, r1)\n",
    "\n",
    "    val selected:Shape? = shapes.firstOrNull { \n",
    "        //다형성 적용 위치\n",
    "        shape -> shape.isHit(50, 52)\n",
    "    }\n",
    "\n",
    "    if(selected == null){\n",
    "        println(\"There is no shape at point(50,52)\")\n",
    "    }else{\n",
    "        println(\"A shape of type ${selected.javaClass.simpleName} has been selected.\")\n",
    "    }"
   ]
  },
  {
   "cell_type": "markdown",
   "metadata": {},
   "source": [
    "## 오버라이딩 규칙"
   ]
  },
  {
   "cell_type": "markdown",
   "metadata": {},
   "source": [
    "- 재정의를 위해서는 메서드는 열려 있어야 함\n",
    "  - open\n",
    "  - abstract"
   ]
  },
  {
   "cell_type": "code",
   "execution_count": 5,
   "metadata": {},
   "outputs": [],
   "source": [
    "abstract class SingleEngineAirplane protected constructor(){\n",
    "    abstract fun fly()\n",
    "}"
   ]
  },
  {
   "cell_type": "code",
   "execution_count": 6,
   "metadata": {},
   "outputs": [],
   "source": [
    "class CesnaAirplane:SingleEngineAirplane(){\n",
    "    override fun fly(){\n",
    "        println(\"Flying a cesna\")\n",
    "    }\n",
    "}"
   ]
  },
  {
   "cell_type": "code",
   "execution_count": 7,
   "metadata": {},
   "outputs": [],
   "source": [
    "//상속 가능하게 하기 위해서는 open 키워드 추가\n",
    "open class CesnaAirplane2:SingleEngineAirplane(){\n",
    "    final override fun fly(){\n",
    "        println(\"Flying a cesna\")\n",
    "    }\n",
    "}"
   ]
  },
  {
   "cell_type": "code",
   "execution_count": 8,
   "metadata": {},
   "outputs": [
    {
     "name": "stderr",
     "output_type": "stream",
     "text": [
      "\u001b[1;31merror: \u001b[0;1m'fly' in 'CesnaAirplane2' is final and cannot be overridden\u001b[m\n",
      "    override fun fly(){\n",
      "    ^\n"
     ]
    }
   ],
   "source": [
    "//final 메서드는 override를 못함\n",
    "open class CesnaAirplane3:CesnaAirplane2(){\n",
    "    override fun fly(){\n",
    "        println(\"Flying a cesna\")\n",
    "    }\n",
    "}"
   ]
  },
  {
   "cell_type": "markdown",
   "metadata": {},
   "source": [
    "- property 재정의"
   ]
  },
  {
   "cell_type": "code",
   "execution_count": 9,
   "metadata": {},
   "outputs": [],
   "source": [
    "open class Base{\n",
    "    open val property1:String\n",
    "      get() = \"Base::value\"\n",
    "}"
   ]
  },
  {
   "cell_type": "code",
   "execution_count": 10,
   "metadata": {},
   "outputs": [],
   "source": [
    "class Derived1:Base(){\n",
    "    override val property1:String\n",
    "      get()=\"Derived::value\"\n",
    "}"
   ]
  },
  {
   "cell_type": "code",
   "execution_count": 11,
   "metadata": {},
   "outputs": [
    {
     "data": {
      "text/plain": [
       "Derived::value"
      ]
     },
     "execution_count": 11,
     "metadata": {},
     "output_type": "execute_result"
    }
   ],
   "source": [
    "val d1 = Derived1()\n",
    "d1.property1"
   ]
  },
  {
   "cell_type": "code",
   "execution_count": 12,
   "metadata": {},
   "outputs": [],
   "source": [
    "class Derived2(override val property1:String):Base(){}"
   ]
  },
  {
   "cell_type": "code",
   "execution_count": 13,
   "metadata": {},
   "outputs": [
    {
     "data": {
      "text/plain": [
       "tw"
      ]
     },
     "execution_count": 13,
     "metadata": {},
     "output_type": "execute_result"
    }
   ],
   "source": [
    "val d2 = Derived2(\"tw\")\n",
    "d2.property1"
   ]
  },
  {
   "cell_type": "code",
   "execution_count": 14,
   "metadata": {},
   "outputs": [
    {
     "data": {
      "text/plain": [
       "Base::value"
      ]
     },
     "execution_count": 14,
     "metadata": {},
     "output_type": "execute_result"
    }
   ],
   "source": [
    "//파라미터로 끝냄\n",
    "//기존 Property를 덮어쓰지 못함\n",
    "class Derived3(property1:String):Base(){}\n",
    "val d3 = Derived3(\"tw\")\n",
    "d3.property1"
   ]
  },
  {
   "cell_type": "markdown",
   "metadata": {},
   "source": [
    "----"
   ]
  },
  {
   "cell_type": "code",
   "execution_count": 15,
   "metadata": {},
   "outputs": [],
   "source": [
    "open class BaseB(open val propertyFoo:String){}"
   ]
  },
  {
   "cell_type": "code",
   "execution_count": 16,
   "metadata": {},
   "outputs": [],
   "source": [
    "//propertyFoo를 재정의\n",
    "class DerivedB:BaseB(\"\"){\n",
    "    private var _propFoo:String=\"\"\n",
    "    override var propertyFoo:String\n",
    "        get()=_propFoo\n",
    "        set(value){\n",
    "            _propFoo = value\n",
    "        }\n",
    "}"
   ]
  },
  {
   "cell_type": "code",
   "execution_count": 17,
   "metadata": {},
   "outputs": [],
   "source": [
    "val baseB = BaseB(\"BaseB:Value\")\n",
    "val derivedB = DerivedB()\n",
    "derivedB.propertyFoo = \"on the spot value\""
   ]
  },
  {
   "cell_type": "code",
   "execution_count": 18,
   "metadata": {},
   "outputs": [
    {
     "data": {
      "text/plain": [
       "BaseB:BaseB:Value"
      ]
     },
     "execution_count": 18,
     "metadata": {},
     "output_type": "execute_result"
    }
   ],
   "source": [
    "//base에 정의된 propertyFoo\n",
    "\"BaseB:${baseB.propertyFoo}\""
   ]
  },
  {
   "cell_type": "code",
   "execution_count": 19,
   "metadata": {},
   "outputs": [
    {
     "data": {
      "text/plain": [
       "DerivedB:on the spot value"
      ]
     },
     "execution_count": 19,
     "metadata": {},
     "output_type": "execute_result"
    }
   ],
   "source": [
    "//derivedB 재정의된 propertyFoo\n",
    "\"DerivedB:${derivedB.propertyFoo}\""
   ]
  },
  {
   "cell_type": "markdown",
   "metadata": {},
   "source": [
    "- 누구냐 너는"
   ]
  },
  {
   "cell_type": "code",
   "execution_count": 20,
   "metadata": {},
   "outputs": [],
   "source": [
    "import java.io.*\n",
    "\n",
    "open class Image{\n",
    "    open fun save(output:OutputStream){\n",
    "        println(\"Some logic to save an image\")\n",
    "    }\n",
    "}\n",
    "\n",
    "interface VendorImage{\n",
    "    fun save(output:OutputStream){\n",
    "        println(\"Vendor logic to save an image\")\n",
    "    }\n",
    "}\n",
    "\n",
    "class PNGImage:Image(), VendorImage{\n",
    "    override fun save(output:OutputStream){\n",
    "        super<VendorImage>.save(output)\n",
    "        super<Image>.save(output)\n",
    "    }\n",
    "}"
   ]
  },
  {
   "cell_type": "markdown",
   "metadata": {},
   "source": [
    "## 상속 대 합성"
   ]
  },
  {
   "cell_type": "markdown",
   "metadata": {},
   "source": [
    "- Association: 클래스 재사용으로 키움\n",
    "- has-a"
   ]
  },
  {
   "cell_type": "markdown",
   "metadata": {},
   "source": [
    "- Association의 유형\n",
    "  - Aggregation: 연관된 두 객체는 개별적인 생명 주기\n",
    "  - Composition"
   ]
  },
  {
   "cell_type": "markdown",
   "metadata": {},
   "source": [
    "## Class Delegation"
   ]
  },
  {
   "cell_type": "markdown",
   "metadata": {},
   "source": [
    "## Sealed Class"
   ]
  },
  {
   "cell_type": "markdown",
   "metadata": {},
   "source": [
    "- 추상클래스\n",
    "- 서브 클래스를 봉인 클래스 자신 내부에 중첩 클래스로 정의하여 확장"
   ]
  },
  {
   "cell_type": "code",
   "execution_count": 21,
   "metadata": {},
   "outputs": [],
   "source": [
    "sealed class IntBinaryTree{\n",
    "    class EmptyNode:IntBinaryTree()\n",
    "    class IntBinaryTreeNode(val left:IntBinaryTree, val value:Int, val right:IntBinaryTree):IntBinaryTree()\n",
    "}"
   ]
  },
  {
   "cell_type": "code",
   "execution_count": 22,
   "metadata": {},
   "outputs": [],
   "source": [
    "val tree = IntBinaryTree.IntBinaryTreeNode(\n",
    "    IntBinaryTree.IntBinaryTreeNode(IntBinaryTree.EmptyNode(),1,IntBinaryTree.EmptyNode()),\n",
    "        10,\n",
    "        IntBinaryTree.EmptyNode()        \n",
    ")\n",
    "//[[empyt, 1, empty],10, empty]"
   ]
  },
  {
   "cell_type": "code",
   "execution_count": 23,
   "metadata": {},
   "outputs": [],
   "source": [
    "fun toCollection(tree: IntBinaryTree): Collection<Int> =\n",
    "        when (tree) {\n",
    "            is IntBinaryTree.EmptyNode -> emptyList<Int>()\n",
    "            is IntBinaryTree.IntBinaryTreeNode -> toCollection(tree.left) + tree.value + toCollection(tree.right)\n",
    "        }"
   ]
  },
  {
   "cell_type": "code",
   "execution_count": 24,
   "metadata": {},
   "outputs": [
    {
     "data": {
      "text/plain": [
       "[1, 10]"
      ]
     },
     "execution_count": 24,
     "metadata": {},
     "output_type": "execute_result"
    }
   ],
   "source": [
    "toCollection(tree)"
   ]
  }
 ],
 "metadata": {
  "kernelspec": {
   "display_name": "Kotlin",
   "language": "kotlin",
   "name": "kotlin"
  },
  "language_info": {
   "file_extension": "kt",
   "name": "kotlin"
  }
 },
 "nbformat": 4,
 "nbformat_minor": 2
}
